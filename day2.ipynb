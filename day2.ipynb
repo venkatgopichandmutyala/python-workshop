{
 "cells": [
  {
   "cell_type": "markdown",
   "metadata": {},
   "source": [
    "# funcuntions:\n",
    "- block of code to perform perticular task\n",
    "## advantages:\n",
    "- code reuse\n",
    "- size decrese\n",
    "##  types of funcuntions:\n",
    "1. predefine\n",
    "2. user define\n",
    "3. special\n",
    "##  based on return type\n",
    "    1. without arg and without return value\n",
    "    2. without arg and with return values\n",
    "    3. with arg and without return values\n",
    "    4. with arg and with return values\n",
    "## based on arg\n",
    "    1. default arg\n",
    "    2. required arg\n",
    "    3. varaible arg\n",
    "    4. keyword arg\n"
   ]
  },
  {
   "cell_type": "markdown",
   "metadata": {},
   "source": [
    "# How to create user define function\n",
    "1. function creation\n",
    "    1. fun declar\n",
    "        'def functionName(arg):'\n",
    "    2. fun defination:\n",
    "        statements\n",
    "2. function calling:\n",
    "     by using functionName"
   ]
  },
  {
   "cell_type": "code",
   "execution_count": 1,
   "metadata": {},
   "outputs": [
    {
     "name": "stdout",
     "output_type": "stream",
     "text": [
      "sample function\n"
     ]
    }
   ],
   "source": [
    "def sample():\n",
    "    print('sample function')\n",
    "sample()"
   ]
  },
  {
   "cell_type": "code",
   "execution_count": null,
   "metadata": {},
   "outputs": [],
   "source": [
    "#1. without arg and without return value\n",
    "def fun():\n",
    "    s1=int(input())\n",
    "    s2=int(input())\n",
    "    print('adding of {} and {} is {}'.format(s1,s2,s1+s2))\n",
    "fun()\n",
    "#2. without arg and with return values\n",
    "#3. with arg and without return value\n",
    "#4. with arg and with return values"
   ]
  },
  {
   "cell_type": "code",
   "execution_count": null,
   "metadata": {},
   "outputs": [],
   "source": [
    "#2. without arg and with return values\n",
    "def fun1():\n",
    "    s1=int(input())\n",
    "    s2=int(input())\n",
    "    print('adding of {} and {} is {}'.format(s1,s2,s1+s2))\n",
    "    return s1+s2\n",
    "s=fun1()\n",
    "print(s)\n"
   ]
  },
  {
   "cell_type": "code",
   "execution_count": null,
   "metadata": {},
   "outputs": [],
   "source": [
    " #3. with arg and without return value\n",
    "def fun2(a,b):\n",
    "    print('mul of {} and {} is {}'.format(a,b,a*b))\n",
    "fun2(41,78)\n",
    "\n"
   ]
  },
  {
   "cell_type": "code",
   "execution_count": null,
   "metadata": {},
   "outputs": [],
   "source": [
    "#4. with arg and with return values\n",
    "def fun3(a,b):\n",
    "     print('mul of {} and {} is {}'.format(a,b,a*b))\n",
    "     return a/b\n",
    "s=fun3(41,78)\n",
    "print('div is {}'.format(s))"
   ]
  },
  {
   "cell_type": "code",
   "execution_count": null,
   "metadata": {},
   "outputs": [],
   "source": [
    "# 1. Default Arguments\n",
    "def default(a=2,b=5):\n",
    "    return a**b\n",
    "default()"
   ]
  },
  {
   "cell_type": "code",
   "execution_count": null,
   "metadata": {},
   "outputs": [],
   "source": [
    "def default(a=2,b=5):\n",
    "    return a**b\n",
    "default(b=6)"
   ]
  },
  {
   "cell_type": "code",
   "execution_count": null,
   "metadata": {},
   "outputs": [],
   "source": [
    "def default(a=2,b=5):\n",
    "    return a**b\n",
    "default(8,9)"
   ]
  },
  {
   "cell_type": "code",
   "execution_count": null,
   "metadata": {},
   "outputs": [],
   "source": [
    "#2.required  or positional arguments\n",
    "def  required (a,b,c=10):\n",
    "    print(a,b,c)\n",
    "required(5,6,7)"
   ]
  },
  {
   "cell_type": "code",
   "execution_count": null,
   "metadata": {},
   "outputs": [],
   "source": [
    "def  required (b,c,a=45):\n",
    "    print(a,b,c)\n",
    "required(5,6,7)"
   ]
  },
  {
   "cell_type": "code",
   "execution_count": null,
   "metadata": {},
   "outputs": [],
   "source": [
    "#3.varaible length\n",
    "def var_len(*a):\n",
    "    print(a)\n",
    "var_len(1,20,4,5,6,7,85,43,4,3)"
   ]
  },
  {
   "cell_type": "code",
   "execution_count": null,
   "metadata": {},
   "outputs": [],
   "source": [
    "def var_len(*a):\n",
    "    s=0\n",
    "    for i in a:\n",
    "        s+=i\n",
    "    return s\n",
    "var_len(1,20,4,5,6,7,85,43,4,3)"
   ]
  },
  {
   "cell_type": "code",
   "execution_count": null,
   "metadata": {},
   "outputs": [],
   "source": [
    "#4.keyword arguments\n",
    "def keyword(name,intial):\n",
    "    print('gopichand {} made for each other{}'.format(name,intial))\n",
    "keyword(name='sweety',intial='mutyala')"
   ]
  },
  {
   "cell_type": "code",
   "execution_count": null,
   "metadata": {},
   "outputs": [],
   "source": [
    "def table(x,y):\n",
    "    for i in range(1,y+1):\n",
    "         print('{}*{}={}'.format(x,i,x*i))\n",
    "table(32,98)            "
   ]
  },
  {
   "cell_type": "code",
   "execution_count": null,
   "metadata": {},
   "outputs": [],
   "source": [
    "\n",
    "x=int(input('enter tables upto'))\n",
    "y=int(input('enter table length'))\n",
    "for i in range(1,x):\n",
    "    table(i,y)\n",
    "print('end= ')\n",
    "\n",
    "\n",
    "\n",
    "\n",
    "\n",
    "\n",
    "\n",
    "\n",
    "\n",
    "\n",
    "\n",
    "\n",
    "\n",
    "\n",
    "\n",
    "\n",
    "\n",
    "\n",
    "\n",
    "\n",
    "\n",
    "\n",
    "\n",
    "\n",
    "\n",
    "\n",
    "\n",
    "\n",
    "\n",
    "\n"
   ]
  },
  {
   "cell_type": "code",
   "execution_count": null,
   "metadata": {},
   "outputs": [],
   "source": [
    "def even(start,end):\n",
    "    for i in range(start,end+1):\n",
    "        if i%2==0:\n",
    "            print(i)\n",
    "even(2,78)        "
   ]
  },
  {
   "cell_type": "code",
   "execution_count": null,
   "metadata": {},
   "outputs": [],
   "source": [
    "def factor(n):\n",
    "    for i in range(1,n+1):\n",
    "        if n%i==0:\n",
    "            print(i)\n",
    "factor(10) "
   ]
  },
  {
   "cell_type": "code",
   "execution_count": null,
   "metadata": {
    "scrolled": true
   },
   "outputs": [],
   "source": [
    "def factor(n):\n",
    "    for i in range(1,n+1):\n",
    "        if n%i==0:\n",
    "            print(i)\n",
    "n=int(input('enter a value'))\n",
    "factor(n) "
   ]
  },
  {
   "cell_type": "code",
   "execution_count": null,
   "metadata": {},
   "outputs": [],
   "source": [
    "def sum_fact(n):\n",
    "    s=0\n",
    "    for i in range(1,n):\n",
    "        if n%i==0:\n",
    "            s+=i\n",
    "    return s\n",
    "sum_fact(6)"
   ]
  },
  {
   "cell_type": "code",
   "execution_count": null,
   "metadata": {},
   "outputs": [],
   "source": [
    "def perfect(n):\n",
    "    if n==sum_fact(n):\n",
    "        print(n,'is perfect number')\n",
    "    else:\n",
    "        print(n,'is not a perfect number')\n",
    "perfect(8)"
   ]
  },
  {
   "cell_type": "code",
   "execution_count": null,
   "metadata": {},
   "outputs": [],
   "source": [
    "def fact(n):\n",
    "    if n==1 or n==0:\n",
    "        return 1\n",
    "    else:\n",
    "        return n*fact(n-1)\n",
    "n=int(input('enter a value', ))\n",
    "fact(n)\n"
   ]
  },
  {
   "cell_type": "code",
   "execution_count": null,
   "metadata": {},
   "outputs": [],
   "source": [
    "def count_fact(n):\n",
    "    cnt = 0\n",
    "    for i in range(1,n+1):\n",
    "        if n%i==0:\n",
    "            cnt+=1\n",
    "    return cnt\n",
    "count_fact(4)"
   ]
  },
  {
   "cell_type": "code",
   "execution_count": null,
   "metadata": {},
   "outputs": [],
   "source": [
    "def isprime_fact(n):\n",
    "    if count_fact(n)==2:\n",
    "        print('n is a prime number')\n",
    "    else:\n",
    "        print('n is not a prime number')\n",
    "n=int(input('enter a value'))\n",
    "isprime_fact(n)"
   ]
  },
  {
   "cell_type": "markdown",
   "metadata": {},
   "source": [
    "### strings:\n",
    "- group of characters\n",
    "- string will represent in '',\"\",'\"'\"\n",
    "- string is ordered data\n",
    "- string is immutable data\n",
    "- string accept indexing and slicing"
   ]
  },
  {
   "cell_type": "code",
   "execution_count": null,
   "metadata": {},
   "outputs": [],
   "source": [
    "s='abc'\n",
    "type(s)"
   ]
  },
  {
   "cell_type": "code",
   "execution_count": null,
   "metadata": {},
   "outputs": [],
   "source": [
    "s='python'\n",
    "s+='programming'"
   ]
  },
  {
   "cell_type": "code",
   "execution_count": null,
   "metadata": {},
   "outputs": [],
   "source": [
    "s"
   ]
  },
  {
   "cell_type": "markdown",
   "metadata": {},
   "source": [
    "# indexing\n",
    "# forward indexing -> 0 to len(s)-1\n",
    "# reverse indexing -> -1 to -len(s)\n",
    "s[0]"
   ]
  },
  {
   "cell_type": "markdown",
   "metadata": {},
   "source": [
    "# slicing :\n",
    "# s[start_val:end_val;incre]"
   ]
  },
  {
   "cell_type": "code",
   "execution_count": null,
   "metadata": {},
   "outputs": [],
   "source": [
    "s[:4]"
   ]
  },
  {
   "cell_type": "code",
   "execution_count": null,
   "metadata": {},
   "outputs": [],
   "source": [
    "s[10:]"
   ]
  },
  {
   "cell_type": "code",
   "execution_count": null,
   "metadata": {},
   "outputs": [],
   "source": [
    "s[0::2]"
   ]
  },
  {
   "cell_type": "code",
   "execution_count": null,
   "metadata": {},
   "outputs": [],
   "source": [
    "print(s)"
   ]
  },
  {
   "cell_type": "code",
   "execution_count": null,
   "metadata": {},
   "outputs": [],
   "source": [
    "n=int(input(\"enter the number:\"))\n",
    "reverse=0\n",
    "while(n>0):\n",
    "    remainder=n%10\n",
    "    reverse=(reverse*10)+remainder\n",
    "    n=n//10\n",
    "print(reverse)\n"
   ]
  },
  {
   "cell_type": "code",
   "execution_count": null,
   "metadata": {},
   "outputs": [],
   "source": [
    "n=int(input(\"enter the number:\"))\n",
    "reverse=0\n",
    "while(n>0):\n",
    "    remainder=n%10\n",
    "    reverse=(reverse*10)+remainder\n",
    "    n=n//10\n",
    "if(reverse==n):\n",
    "    print(n,'is a palindrome')"
   ]
  },
  {
   "cell_type": "code",
   "execution_count": null,
   "metadata": {},
   "outputs": [],
   "source": [
    "s='python'\n",
    "s[::-1]"
   ]
  },
  {
   "cell_type": "code",
   "execution_count": null,
   "metadata": {},
   "outputs": [],
   "source": [
    "s='python programming'\n",
    "s[:-12:-1]"
   ]
  },
  {
   "cell_type": "code",
   "execution_count": null,
   "metadata": {},
   "outputs": [],
   "source": [
    "s='python programming'\n",
    "s[-12:-9:-1]\n",
    "s[0:6][::-1]\n",
    "s[7:18][::-1]"
   ]
  },
  {
   "cell_type": "code",
   "execution_count": null,
   "metadata": {},
   "outputs": [],
   "source": [
    "def palindrome_check(word):\n",
    "    if(word)==word[::-1]:\n",
    "        return True\n",
    "    else:\n",
    "        return false\n",
    "word=input('enter word')\n",
    "palindrome_check(word)"
   ]
  },
  {
   "cell_type": "code",
   "execution_count": null,
   "metadata": {},
   "outputs": [],
   "source": [
    "## def palindrome_check(word):\n",
    "    if(word)==word[::-1]:\n",
    "        return True\n",
    "    else:\n",
    "        return false\n",
    "word=input('enter word')\n",
    "palindrome_check(word)"
   ]
  },
  {
   "cell_type": "code",
   "execution_count": null,
   "metadata": {},
   "outputs": [],
   "source": [
    "s='python programming'\n",
    "s=s[0:6][::-1]+s[6:18]\n",
    "s"
   ]
  },
  {
   "cell_type": "code",
   "execution_count": null,
   "metadata": {},
   "outputs": [],
   "source": [
    "# string methods\n",
    "dir(str)"
   ]
  },
  {
   "cell_type": "code",
   "execution_count": null,
   "metadata": {},
   "outputs": [],
   "source": [
    "s='Python Programming'\n",
    "for i in range(len(s)):\n",
    "    print(s[i],end='')\n"
   ]
  },
  {
   "cell_type": "code",
   "execution_count": null,
   "metadata": {},
   "outputs": [],
   "source": [
    "s.capitalize() # return the first letter as capital"
   ]
  },
  {
   "cell_type": "code",
   "execution_count": null,
   "metadata": {},
   "outputs": [],
   "source": [
    "s.casefold()# returnALL LETTERS AS SMALL"
   ]
  },
  {
   "cell_type": "code",
   "execution_count": null,
   "metadata": {},
   "outputs": [],
   "source": [
    "s.center(4)"
   ]
  },
  {
   "cell_type": "code",
   "execution_count": null,
   "metadata": {},
   "outputs": [],
   "source": [
    "s.count('P')"
   ]
  },
  {
   "cell_type": "code",
   "execution_count": null,
   "metadata": {},
   "outputs": [],
   "source": [
    "s.encode()"
   ]
  },
  {
   "cell_type": "code",
   "execution_count": null,
   "metadata": {},
   "outputs": [],
   "source": [
    "s.center(25,'*')"
   ]
  },
  {
   "cell_type": "code",
   "execution_count": null,
   "metadata": {},
   "outputs": [],
   "source": [
    "s.endswith('r')"
   ]
  },
  {
   "cell_type": "code",
   "execution_count": null,
   "metadata": {},
   "outputs": [],
   "source": [
    "s.startswith('y')"
   ]
  },
  {
   "cell_type": "code",
   "execution_count": null,
   "metadata": {},
   "outputs": [],
   "source": [
    "s.find('P')"
   ]
  },
  {
   "cell_type": "code",
   "execution_count": null,
   "metadata": {},
   "outputs": [],
   "source": [
    "s.index('p')"
   ]
  },
  {
   "cell_type": "code",
   "execution_count": null,
   "metadata": {},
   "outputs": [],
   "source": [
    "s.format()"
   ]
  },
  {
   "cell_type": "code",
   "execution_count": null,
   "metadata": {},
   "outputs": [],
   "source": [
    "s=pythonProgramminG\n",
    "s.format()\n",
    "s"
   ]
  },
  {
   "cell_type": "code",
   "execution_count": null,
   "metadata": {},
   "outputs": [],
   "source": [
    "s=PythonpROGRAMMING\n",
    "s.swapcase()"
   ]
  },
  {
   "cell_type": "code",
   "execution_count": null,
   "metadata": {},
   "outputs": [],
   "source": [
    "s.swapcase()"
   ]
  },
  {
   "cell_type": "code",
   "execution_count": null,
   "metadata": {},
   "outputs": [],
   "source": [
    "s='pythoN ProGramming'\n",
    "s.swapcase()"
   ]
  },
  {
   "cell_type": "code",
   "execution_count": null,
   "metadata": {},
   "outputs": [],
   "source": [
    "'a'.isalnum()"
   ]
  },
  {
   "cell_type": "code",
   "execution_count": null,
   "metadata": {},
   "outputs": [],
   "source": [
    "s.rjust(34)"
   ]
  },
  {
   "cell_type": "code",
   "execution_count": null,
   "metadata": {},
   "outputs": [],
   "source": [
    "s='abc@123'\n",
    "s.split('1')"
   ]
  },
  {
   "cell_type": "code",
   "execution_count": null,
   "metadata": {},
   "outputs": [],
   "source": [
    "s.split('@')"
   ]
  },
  {
   "cell_type": "code",
   "execution_count": null,
   "metadata": {},
   "outputs": [],
   "source": [
    "help(s.isspace())"
   ]
  },
  {
   "cell_type": "code",
   "execution_count": null,
   "metadata": {},
   "outputs": [],
   "source": [
    "s.zfill(20)"
   ]
  },
  {
   "cell_type": "code",
   "execution_count": 19,
   "metadata": {},
   "outputs": [
    {
     "data": {
      "text/plain": [
       "'abcced'"
      ]
     },
     "execution_count": 19,
     "metadata": {},
     "output_type": "execute_result"
    }
   ],
   "source": [
    "li=['abc','ced']\n",
    "s=''.join(li)\n",
    "s\n",
    "\n"
   ]
  },
  {
   "cell_type": "code",
   "execution_count": null,
   "metadata": {},
   "outputs": [],
   "source": [
    "def(palindrome): \n",
    "    temp=num\n",
    "    num=int(input(\"enter the number:\"))\n",
    "reverse=0\n",
    "while(n>0):\n",
    "    remainder=n%10\n",
    "    reverse=(reverse*10)+remainder\n",
    "    n=n//10\n",
    "print(palindrome)\n"
   ]
  },
  {
   "cell_type": "code",
   "execution_count": 15,
   "metadata": {},
   "outputs": [],
   "source": [
    "def char_count(s):\n",
    "    ac=dc=scc=0\n",
    "    for i in s:\n",
    "        if i.isalpha():\n",
    "            ac+=1\n",
    "        elif i.isdigit():\n",
    "            dc+=1\n",
    "        else:\n",
    "            scc+=1\n",
    "    print(\"alphabets are:{},digits are :{},special characters are :{}\".format(ac,dc,scc) )        \n",
    "        \n",
    "        \n"
   ]
  },
  {
   "cell_type": "code",
   "execution_count": 16,
   "metadata": {},
   "outputs": [
    {
     "name": "stdout",
     "output_type": "stream",
     "text": [
      "alphabets are:14,digits are :5,special characters are :7\n"
     ]
    }
   ],
   "source": [
    "char_count(\"sdsdfzdfdfgrfw12334@#$%^&*\")"
   ]
  },
  {
   "cell_type": "code",
   "execution_count": 9,
   "metadata": {},
   "outputs": [
    {
     "name": "stdout",
     "output_type": "stream",
     "text": [
      "dfg"
     ]
    }
   ],
   "source": [
    "def str_task(s):\n",
    "    for i in s:\n",
    "        print(chr(ord(i)+3),end='')\n",
    "str_task('acd')"
   ]
  },
  {
   "cell_type": "code",
   "execution_count": 17,
   "metadata": {},
   "outputs": [
    {
     "name": "stdout",
     "output_type": "stream",
     "text": [
      "b'hello'\n",
      "hello\n"
     ]
    }
   ],
   "source": [
    "s='hello'\n",
    "r=s.encode()\n",
    "print(r)\n",
    "s=r.decode()\n",
    "print(s)"
   ]
  },
  {
   "cell_type": "code",
   "execution_count": 24,
   "metadata": {},
   "outputs": [
    {
     "name": "stdout",
     "output_type": "stream",
     "text": [
      "ssdcs2345\n",
      "sum of digits are: 4\n"
     ]
    }
   ],
   "source": [
    "s=input()\n",
    "sum=0\n",
    "for i in s:\n",
    "    if i.isdigit():\n",
    "        sum+=1\n",
    "print(\"sum of digits are:\",sum)    "
   ]
  },
  {
   "cell_type": "code",
   "execution_count": 5,
   "metadata": {},
   "outputs": [
    {
     "name": "stdout",
     "output_type": "stream",
     "text": [
      "enter no of tables12\n",
      "enter table range20\n",
      "0 * 0 = 01 * 0 = 02 * 0 = 03 * 0 = 04 * 0 = 05 * 0 = 06 * 0 = 07 * 0 = 08 * 0 = 09 * 0 = 010 * 0 = 011 * 0 = 012 * 0 = 0\t\n",
      "0 * 1 = 01 * 1 = 12 * 1 = 23 * 1 = 34 * 1 = 45 * 1 = 56 * 1 = 67 * 1 = 78 * 1 = 89 * 1 = 910 * 1 = 1011 * 1 = 1112 * 1 = 12\t\n",
      "0 * 2 = 01 * 2 = 22 * 2 = 43 * 2 = 64 * 2 = 85 * 2 = 106 * 2 = 127 * 2 = 148 * 2 = 169 * 2 = 1810 * 2 = 2011 * 2 = 2212 * 2 = 24\t\n",
      "0 * 3 = 01 * 3 = 32 * 3 = 63 * 3 = 94 * 3 = 125 * 3 = 156 * 3 = 187 * 3 = 218 * 3 = 249 * 3 = 2710 * 3 = 3011 * 3 = 3312 * 3 = 36\t\n",
      "0 * 4 = 01 * 4 = 42 * 4 = 83 * 4 = 124 * 4 = 165 * 4 = 206 * 4 = 247 * 4 = 288 * 4 = 329 * 4 = 3610 * 4 = 4011 * 4 = 4412 * 4 = 48\t\n",
      "0 * 5 = 01 * 5 = 52 * 5 = 103 * 5 = 154 * 5 = 205 * 5 = 256 * 5 = 307 * 5 = 358 * 5 = 409 * 5 = 4510 * 5 = 5011 * 5 = 5512 * 5 = 60\t\n",
      "0 * 6 = 01 * 6 = 62 * 6 = 123 * 6 = 184 * 6 = 245 * 6 = 306 * 6 = 367 * 6 = 428 * 6 = 489 * 6 = 5410 * 6 = 6011 * 6 = 6612 * 6 = 72\t\n",
      "0 * 7 = 01 * 7 = 72 * 7 = 143 * 7 = 214 * 7 = 285 * 7 = 356 * 7 = 427 * 7 = 498 * 7 = 569 * 7 = 6310 * 7 = 7011 * 7 = 7712 * 7 = 84\t\n",
      "0 * 8 = 01 * 8 = 82 * 8 = 163 * 8 = 244 * 8 = 325 * 8 = 406 * 8 = 487 * 8 = 568 * 8 = 649 * 8 = 7210 * 8 = 8011 * 8 = 8812 * 8 = 96\t\n",
      "0 * 9 = 01 * 9 = 92 * 9 = 183 * 9 = 274 * 9 = 365 * 9 = 456 * 9 = 547 * 9 = 638 * 9 = 729 * 9 = 8110 * 9 = 9011 * 9 = 9912 * 9 = 108\t\n",
      "0 * 10 = 01 * 10 = 102 * 10 = 203 * 10 = 304 * 10 = 405 * 10 = 506 * 10 = 607 * 10 = 708 * 10 = 809 * 10 = 9010 * 10 = 10011 * 10 = 11012 * 10 = 120\t\n",
      "0 * 11 = 01 * 11 = 112 * 11 = 223 * 11 = 334 * 11 = 445 * 11 = 556 * 11 = 667 * 11 = 778 * 11 = 889 * 11 = 9910 * 11 = 11011 * 11 = 12112 * 11 = 132\t\n",
      "0 * 12 = 01 * 12 = 122 * 12 = 243 * 12 = 364 * 12 = 485 * 12 = 606 * 12 = 727 * 12 = 848 * 12 = 969 * 12 = 10810 * 12 = 12011 * 12 = 13212 * 12 = 144\t\n",
      "0 * 13 = 01 * 13 = 132 * 13 = 263 * 13 = 394 * 13 = 525 * 13 = 656 * 13 = 787 * 13 = 918 * 13 = 1049 * 13 = 11710 * 13 = 13011 * 13 = 14312 * 13 = 156\t\n",
      "0 * 14 = 01 * 14 = 142 * 14 = 283 * 14 = 424 * 14 = 565 * 14 = 706 * 14 = 847 * 14 = 988 * 14 = 1129 * 14 = 12610 * 14 = 14011 * 14 = 15412 * 14 = 168\t\n",
      "0 * 15 = 01 * 15 = 152 * 15 = 303 * 15 = 454 * 15 = 605 * 15 = 756 * 15 = 907 * 15 = 1058 * 15 = 1209 * 15 = 13510 * 15 = 15011 * 15 = 16512 * 15 = 180\t\n",
      "0 * 16 = 01 * 16 = 162 * 16 = 323 * 16 = 484 * 16 = 645 * 16 = 806 * 16 = 967 * 16 = 1128 * 16 = 1289 * 16 = 14410 * 16 = 16011 * 16 = 17612 * 16 = 192\t\n",
      "0 * 17 = 01 * 17 = 172 * 17 = 343 * 17 = 514 * 17 = 685 * 17 = 856 * 17 = 1027 * 17 = 1198 * 17 = 1369 * 17 = 15310 * 17 = 17011 * 17 = 18712 * 17 = 204\t\n",
      "0 * 18 = 01 * 18 = 182 * 18 = 363 * 18 = 544 * 18 = 725 * 18 = 906 * 18 = 1087 * 18 = 1268 * 18 = 1449 * 18 = 16210 * 18 = 18011 * 18 = 19812 * 18 = 216\t\n",
      "0 * 19 = 01 * 19 = 192 * 19 = 383 * 19 = 574 * 19 = 765 * 19 = 956 * 19 = 1147 * 19 = 1338 * 19 = 1529 * 19 = 17110 * 19 = 19011 * 19 = 20912 * 19 = 228\t\n",
      "0 * 20 = 01 * 20 = 202 * 20 = 403 * 20 = 604 * 20 = 805 * 20 = 1006 * 20 = 1207 * 20 = 1408 * 20 = 1609 * 20 = 18010 * 20 = 20011 * 20 = 22012 * 20 = 240\t\n"
     ]
    }
   ],
   "source": [
    "n1=int(input('enter no of tables'))\n",
    "n2=int(input('enter table range'))\n",
    "for j in range(n2+1):\n",
    "    for i in range(n1+1):\n",
    "        print(i,'*',j,'=',i*j,end='')\n",
    "    print('\\t')        "
   ]
  },
  {
   "cell_type": "code",
   "execution_count": null,
   "metadata": {},
   "outputs": [],
   "source": []
  },
  {
   "cell_type": "code",
   "execution_count": null,
   "metadata": {},
   "outputs": [],
   "source": []
  },
  {
   "cell_type": "code",
   "execution_count": null,
   "metadata": {},
   "outputs": [],
   "source": []
  }
 ],
 "metadata": {
  "kernelspec": {
   "display_name": "Python 3",
   "language": "python",
   "name": "python3"
  },
  "language_info": {
   "codemirror_mode": {
    "name": "ipython",
    "version": 3
   },
   "file_extension": ".py",
   "mimetype": "text/x-python",
   "name": "python",
   "nbconvert_exporter": "python",
   "pygments_lexer": "ipython3",
   "version": "3.6.5"
  }
 },
 "nbformat": 4,
 "nbformat_minor": 4
}
