{
 "cells": [
  {
   "cell_type": "code",
   "execution_count": 1,
   "metadata": {},
   "outputs": [
    {
     "name": "stdout",
     "output_type": "stream",
     "text": [
      "enter a value55\n",
      "enter b value44\n",
      "99\n"
     ]
    }
   ],
   "source": [
    "a=int(input('enter a value'))\n",
    "b=int(input('enter b value'))\n",
    "print(a+b)\n",
    "\n"
   ]
  },
  {
   "cell_type": "code",
   "execution_count": 5,
   "metadata": {},
   "outputs": [
    {
     "name": "stdout",
     "output_type": "stream",
     "text": [
      "enter a value5679\n",
      "enter b value789654\n",
      "addition of 5679 + 789654 = 795333\n"
     ]
    }
   ],
   "source": [
    "m=int(input('enter a value'))\n",
    "g=int(input('enter b value'))\n",
    "s=m+g\n",
    "print(\"addition of\",m,\"+\",g,\"=\",s )"
   ]
  },
  {
   "cell_type": "code",
   "execution_count": 8,
   "metadata": {},
   "outputs": [
    {
     "name": "stdout",
     "output_type": "stream",
     "text": [
      "enter a value45678\n",
      "enter b value7689\n",
      "substract of 45678 - 7689 =37989\n",
      "mul of 45678 * 7689=351218142\n"
     ]
    }
   ],
   "source": [
    "a=int(input('enter a value'))\n",
    "b=int(input('enter b value'))\n",
    "print('substract of %d - %d =%d'%(a,b,a-b))\n",
    "print('mul of {} * {}={}'.format(a,b,a*b))\n"
   ]
  },
  {
   "cell_type": "code",
   "execution_count": 9,
   "metadata": {},
   "outputs": [
    {
     "name": "stdout",
     "output_type": "stream",
     "text": [
      "True\n"
     ]
    }
   ],
   "source": [
    "print(6<7)"
   ]
  },
  {
   "cell_type": "code",
   "execution_count": 13,
   "metadata": {},
   "outputs": [
    {
     "name": "stdout",
     "output_type": "stream",
     "text": [
      "lessthan --< True\n",
      "greterthan--> True\n",
      "greaterthan or equals True\n",
      "lessthan or equals False\n",
      "notequal to True\n",
      "equal to True\n"
     ]
    }
   ],
   "source": [
    "print('lessthan --<',6<7)\n",
    "print('greterthan-->',45>32)\n",
    "print('greaterthan or equals',200>=199)\n",
    "print('lessthan or equals',199<=100)\n",
    "print('notequal to',12!=13)\n",
    "print('equal to',12==12)"
   ]
  },
  {
   "cell_type": "code",
   "execution_count": 19,
   "metadata": {},
   "outputs": [
    {
     "name": "stdout",
     "output_type": "stream",
     "text": [
      "50\n",
      "final result is 100\n",
      "100\n"
     ]
    }
   ],
   "source": [
    "a=10\n",
    "a+=90\n",
    "a-=50\n",
    "print(a)\n",
    "a*=2\n",
    "print('final result is',a)\n",
    "print(a)"
   ]
  },
  {
   "cell_type": "code",
   "execution_count": 21,
   "metadata": {},
   "outputs": [
    {
     "name": "stdout",
     "output_type": "stream",
     "text": [
      "True\n",
      "False\n",
      "False\n",
      "False\n"
     ]
    }
   ],
   "source": [
    "print(True and True)\n",
    "print(True and False)\n",
    "print( False and True)\n",
    "print(False and False)\n"
   ]
  },
  {
   "cell_type": "code",
   "execution_count": 22,
   "metadata": {},
   "outputs": [
    {
     "name": "stdout",
     "output_type": "stream",
     "text": [
      "True\n",
      "True\n",
      "True\n",
      "False\n"
     ]
    }
   ],
   "source": [
    "print(True or True)\n",
    "print(True or False)\n",
    "print( False or True)\n",
    "print(False or False)\n"
   ]
  },
  {
   "cell_type": "code",
   "execution_count": 24,
   "metadata": {},
   "outputs": [
    {
     "name": "stdout",
     "output_type": "stream",
     "text": [
      "False\n",
      "False\n",
      "False\n",
      "True\n"
     ]
    }
   ],
   "source": [
    "print(not(True or True))\n",
    "print(not(True or False))\n",
    "print( not(False or True))\n",
    "print(not(False or False))\n"
   ]
  },
  {
   "cell_type": "code",
   "execution_count": 25,
   "metadata": {},
   "outputs": [
    {
     "name": "stdout",
     "output_type": "stream",
     "text": [
      "False\n",
      "True\n",
      "True\n",
      "True\n"
     ]
    }
   ],
   "source": [
    "print(not(True and True))\n",
    "print(not(True and False))\n",
    "print(not( False and True))\n",
    "print(not(False and False))\n"
   ]
  },
  {
   "cell_type": "markdown",
   "metadata": {},
   "source": [
    "# membership\n",
    "+ in,notin\n"
   ]
  },
  {
   "cell_type": "code",
   "execution_count": 27,
   "metadata": {},
   "outputs": [
    {
     "name": "stdout",
     "output_type": "stream",
     "text": [
      "True\n",
      "False\n",
      "True\n"
     ]
    }
   ],
   "source": [
    "s=\"welcome to python workship\"\n",
    "print('to' in s)\n",
    "print('too' in s)\n",
    "print('v' not in s)"
   ]
  },
  {
   "cell_type": "code",
   "execution_count": 29,
   "metadata": {},
   "outputs": [
    {
     "name": "stdout",
     "output_type": "stream",
     "text": [
      "False\n",
      "True\n"
     ]
    }
   ],
   "source": [
    "# identity operator\n",
    "x='gopi'\n",
    "y='teja'\n",
    "print(x is y)\n",
    "print(x is not y)"
   ]
  },
  {
   "cell_type": "markdown",
   "metadata": {},
   "source": [
    "# bitwise operator\n",
    "+ &,|,^"
   ]
  },
  {
   "cell_type": "code",
   "execution_count": 30,
   "metadata": {},
   "outputs": [
    {
     "data": {
      "text/plain": [
       "2"
      ]
     },
     "execution_count": 30,
     "metadata": {},
     "output_type": "execute_result"
    }
   ],
   "source": [
    "2&2\n",
    "#bin(2)"
   ]
  },
  {
   "cell_type": "code",
   "execution_count": 31,
   "metadata": {},
   "outputs": [
    {
     "data": {
      "text/plain": [
       "0"
      ]
     },
     "execution_count": 31,
     "metadata": {},
     "output_type": "execute_result"
    }
   ],
   "source": [
    "2&5\n"
   ]
  },
  {
   "cell_type": "code",
   "execution_count": 32,
   "metadata": {},
   "outputs": [
    {
     "data": {
      "text/plain": [
       "6"
      ]
     },
     "execution_count": 32,
     "metadata": {},
     "output_type": "execute_result"
    }
   ],
   "source": [
    "2|4"
   ]
  },
  {
   "cell_type": "code",
   "execution_count": 33,
   "metadata": {},
   "outputs": [
    {
     "data": {
      "text/plain": [
       "78"
      ]
     },
     "execution_count": 33,
     "metadata": {},
     "output_type": "execute_result"
    }
   ],
   "source": [
    "2|78\n"
   ]
  },
  {
   "cell_type": "code",
   "execution_count": 34,
   "metadata": {},
   "outputs": [
    {
     "data": {
      "text/plain": [
       "1"
      ]
     },
     "execution_count": 34,
     "metadata": {},
     "output_type": "execute_result"
    }
   ],
   "source": [
    "2^3\n"
   ]
  },
  {
   "cell_type": "code",
   "execution_count": 41,
   "metadata": {},
   "outputs": [
    {
     "data": {
      "text/plain": [
       "30"
      ]
     },
     "execution_count": 41,
     "metadata": {},
     "output_type": "execute_result"
    }
   ],
   "source": [
    "5\n",
    "print(bin(2))\n",
    "print(int('011',2))\n",
    "print(int('11110',2))\n"
   ]
  },
  {
   "cell_type": "code",
   "execution_count": 42,
   "metadata": {},
   "outputs": [
    {
     "data": {
      "text/plain": [
       "'A'"
      ]
     },
     "execution_count": 42,
     "metadata": {},
     "output_type": "execute_result"
    }
   ],
   "source": [
    "ord('A')\n",
    "chr(65)"
   ]
  },
  {
   "cell_type": "markdown",
   "metadata": {},
   "source": [
    "# take 5 inputs from user\n",
    "# operations the values\n",
    "# print result"
   ]
  },
  {
   "cell_type": "markdown",
   "metadata": {},
   "source": [
    "# conditional statements\n",
    "+ if,elif,else\n",
    "### condition:\n",
    "if condition:\n",
    "        statements\n",
    "       \n",
    "elif condition:\n",
    "        statements\n",
    "else\n",
    "    statements"
   ]
  },
  {
   "cell_type": "code",
   "execution_count": 45,
   "metadata": {},
   "outputs": [
    {
     "name": "stdout",
     "output_type": "stream",
     "text": [
      "enter the value:- 55\n",
      "55 is an odd number\n"
     ]
    }
   ],
   "source": [
    "# even numbers\n",
    "n=int(input('enter the value:-'))\n",
    "if n%2==1:\n",
    "    print(n,'is an odd number')\n",
    "else:\n",
    "    print(n,'is not an odd number')"
   ]
  },
  {
   "cell_type": "markdown",
   "metadata": {},
   "source": [
    "# take the inputs from the user\n",
    "1 to 7\n"
   ]
  },
  {
   "cell_type": "code",
   "execution_count": 52,
   "metadata": {},
   "outputs": [
    {
     "name": "stdout",
     "output_type": "stream",
     "text": [
      "enter a value0\n",
      "invalid statement\n"
     ]
    }
   ],
   "source": [
    "a=int(input('enter a value'))\n",
    "if (a==1):\n",
    "    print('sunday')\n",
    "elif(a==2):\n",
    "    print('monday')\n",
    "elif(a==3):\n",
    "        print('tuesday')\n",
    "elif(a==4):\n",
    "            print('wednesday')\n",
    "elif(a==5):\n",
    "            print('thursday')\n",
    "elif(a==6):\n",
    "            print('friday')\n",
    "elif(a==7):\n",
    "            print('saturday')\n",
    "else:\n",
    "    print('invalid statement')\n",
    "        "
   ]
  },
  {
   "cell_type": "markdown",
   "metadata": {},
   "source": []
  },
  {
   "cell_type": "code",
   "execution_count": null,
   "metadata": {},
   "outputs": [],
   "source": []
  }
 ],
 "metadata": {
  "kernelspec": {
   "display_name": "Python 3",
   "language": "python",
   "name": "python3"
  },
  "language_info": {
   "codemirror_mode": {
    "name": "ipython",
    "version": 3
   },
   "file_extension": ".py",
   "mimetype": "text/x-python",
   "name": "python",
   "nbconvert_exporter": "python",
   "pygments_lexer": "ipython3",
   "version": "3.6.5"
  }
 },
 "nbformat": 4,
 "nbformat_minor": 4
}
